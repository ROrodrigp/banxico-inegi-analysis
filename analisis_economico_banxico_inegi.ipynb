{
 "cells": [
  {
   "cell_type": "code",
   "execution_count": 1,
   "metadata": {},
   "outputs": [],
   "source": [
    "import yaml\n",
    "import pandas as pd\n",
    "from datetime import datetime\n",
    "import matplotlib.pyplot as plt\n",
    "from INEGIpy import Indicadores\n",
    "from sie_banxico import SIEBanxico"
   ]
  },
  {
   "cell_type": "code",
   "execution_count": 2,
   "metadata": {},
   "outputs": [],
   "source": [
    "def cargar_config(ruta_archivo='tokens.yaml'):\n",
    "    \"\"\"\n",
    "    Carga los tokens de APIs desde un archivo YAML de configuración.\n",
    "    \n",
    "    Args:\n",
    "        ruta_archivo (str): Ruta al archivo YAML (por defecto 'tokens.yaml')\n",
    "        \n",
    "    Returns:\n",
    "        dict: Diccionario con la configuración cargada\n",
    "    \"\"\"\n",
    "    try:\n",
    "        with open(ruta_archivo, 'r') as archivo:\n",
    "            config = yaml.safe_load(archivo)\n",
    "        print(\"✅ Configuración cargada exitosamente\")\n",
    "        return config\n",
    "    except FileNotFoundError:\n",
    "        print(f\"❌ Error: No se encontró el archivo {ruta_archivo}\")\n",
    "        print(f\"   Crea este archivo con la estructura adecuada para los tokens\")\n",
    "        return None\n",
    "    except yaml.YAMLError as e:\n",
    "        print(f\"❌ Error al parsear el archivo YAML: {e}\")\n",
    "        return None"
   ]
  },
  {
   "cell_type": "code",
   "execution_count": 3,
   "metadata": {},
   "outputs": [],
   "source": [
    "def explorar_indicadores_inegi(inegi_api, busqueda=None, banco='BIE'):\n",
    "    \"\"\"\n",
    "    Explora el catálogo de indicadores disponibles en INEGI.\n",
    "    Opcionalmente filtra por términos de búsqueda.\n",
    "    \n",
    "    Args:\n",
    "        inegi_api: Instancia inicializada de la API de INEGI\n",
    "        busqueda (str, optional): Término para filtrar indicadores\n",
    "        banco (str): Banco de indicadores a consultar ('BIE' o 'BISE')\n",
    "        \n",
    "    Returns:\n",
    "        DataFrame: DataFrame con los indicadores encontrados\n",
    "    \"\"\"\n",
    "    try:\n",
    "        # Obtenemos el catálogo completo de indicadores\n",
    "        indicadores = inegi_api.indicadores.catalogo_indicadores(banco=banco)\n",
    "        \n",
    "        # Si se proporciona un término de búsqueda, filtramos\n",
    "        if busqueda:\n",
    "            indicadores_filtrados = indicadores[\n",
    "                indicadores['descripcion'].str.contains(busqueda, case=False, regex=True)\n",
    "            ]\n",
    "            print(f\"✅ Se encontraron {len(indicadores_filtrados)} indicadores relacionados con '{busqueda}'\")\n",
    "            return indicadores_filtrados\n",
    "        \n",
    "        print(f\"✅ Se encontraron {len(indicadores)} indicadores en el banco {banco}\")\n",
    "        return indicadores\n",
    "        \n",
    "    except Exception as e:\n",
    "        print(f\"❌ Error al consultar el catálogo de indicadores: {e}\")\n",
    "        return None"
   ]
  },
  {
   "cell_type": "code",
   "execution_count": 12,
   "metadata": {},
   "outputs": [
    {
     "name": "stdout",
     "output_type": "stream",
     "text": [
      "✅ Configuración cargada exitosamente\n"
     ]
    }
   ],
   "source": [
    "# Cargamos la configuración \n",
    "config = cargar_config()\n",
    "if not (config and 'banxico' in config and 'inegi' in config):\n",
    "    print(\"❌ Error: Configuración incompleta. Verifica el archivo config.yaml\")"
   ]
  },
  {
   "cell_type": "code",
   "execution_count": 6,
   "metadata": {},
   "outputs": [
    {
     "ename": "SyntaxError",
     "evalue": "invalid syntax (241081178.py, line 1)",
     "output_type": "error",
     "traceback": [
      "  \u001b[36mCell\u001b[39m\u001b[36m \u001b[39m\u001b[32mIn[6]\u001b[39m\u001b[32m, line 1\u001b[39m\n\u001b[31m    \u001b[39m\u001b[31mconfig =\u001b[39m\n             ^\n\u001b[31mSyntaxError\u001b[39m\u001b[31m:\u001b[39m invalid syntax\n"
     ]
    }
   ],
   "source": [
    "\n"
   ]
  },
  {
   "cell_type": "code",
   "execution_count": null,
   "metadata": {},
   "outputs": [],
   "source": []
  }
 ],
 "metadata": {
  "kernelspec": {
   "display_name": "analisis-economico",
   "language": "python",
   "name": "python3"
  },
  "language_info": {
   "codemirror_mode": {
    "name": "ipython",
    "version": 3
   },
   "file_extension": ".py",
   "mimetype": "text/x-python",
   "name": "python",
   "nbconvert_exporter": "python",
   "pygments_lexer": "ipython3",
   "version": "3.11.11"
  }
 },
 "nbformat": 4,
 "nbformat_minor": 2
}
